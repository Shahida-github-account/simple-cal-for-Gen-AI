{
  "nbformat": 4,
  "nbformat_minor": 0,
  "metadata": {
    "colab": {
      "provenance": [],
      "authorship_tag": "ABX9TyNjgrkW+TwUn6NtqJFroCut",
      "include_colab_link": true
    },
    "kernelspec": {
      "name": "python3",
      "display_name": "Python 3"
    },
    "language_info": {
      "name": "python"
    }
  },
  "cells": [
    {
      "cell_type": "markdown",
      "metadata": {
        "id": "view-in-github",
        "colab_type": "text"
      },
      "source": [
        "<a href=\"https://colab.research.google.com/github/Shahida-github-account/simple-cal-for-Gen-AI/blob/main/App_py.ipynb\" target=\"_parent\"><img src=\"https://colab.research.google.com/assets/colab-badge.svg\" alt=\"Open In Colab\"/></a>"
      ]
    },
    {
      "cell_type": "code",
      "execution_count": 1,
      "metadata": {
        "colab": {
          "base_uri": "https://localhost:8080/"
        },
        "id": "lGq6V8DBSXQK",
        "outputId": "6c126749-df66-442c-ba9f-720177418d59"
      },
      "outputs": [
        {
          "output_type": "stream",
          "name": "stdout",
          "text": [
            "Welcome to the simple calculator!\n",
            "Select operation:\n",
            "1. Addition (+)\n",
            "2. Subtraction (-)\n",
            "3. Multiplication (*)\n",
            "4. Division (/)\n",
            "Enter choice (1/2/3/4): 3\n",
            "Enter first number: 60\n",
            "Enter second number: 100\n",
            "60.0 * 100.0 = 6000.0\n"
          ]
        }
      ],
      "source": [
        "import streamlit as st\n",
        "\n",
        "# Simple Calculator using Streamlit\n",
        "\n",
        "# Set up title and description\n",
        "st.title(\"Simple Calculator\")\n",
        "st.write(\"Select an operation and enter two numbers to calculate.\")\n",
        "\n",
        "# Select operation\n",
        "operation = st.selectbox(\"Choose an operation:\", ['Addition', 'Subtraction', 'Multiplication', 'Division'])\n",
        "\n",
        "# Input numbers\n",
        "num1 = st.number_input(\"Enter the first number:\", format=\"%.2f\")\n",
        "num2 = st.number_input(\"Enter the second number:\", format=\"%.2f\")\n",
        "\n",
        "# Perform calculation based on user input\n",
        "if st.button(\"Calculate\"):\n",
        "    if operation == 'Addition':\n",
        "        result = num1 + num2\n",
        "        st.write(f\"Result: {num1} + {num2} = {result}\")\n",
        "    elif operation == 'Subtraction':\n",
        "        result = num1 - num2\n",
        "        st.write(f\"Result: {num1} - {num2} = {result}\")\n",
        "    elif operation == 'Multiplication':\n",
        "        result = num1 * num2\n",
        "        st.write(f\"Result: {num1} * {num2} = {result}\")\n",
        "    elif operation == 'Division':\n",
        "        if num2 != 0:\n",
        "            result = num1 / num2\n",
        "            st.write(f\"Result: {num1} / {num2} = {result}\")\n",
        "        else:\n",
        "            st.write(\"Error! Division by zero.\")\n",
        "\n",
        "# Footer\n",
        "st.write(\"Thank you for using the Simple Calculator!\")\n",
        "# Simple Calculator in Python\n",
        "\n",
        "# Function to perform basic calculations\n",
        "def calculator():\n",
        "    print(\"Welcome to the simple calculator!\")\n",
        "    print(\"Select operation:\")\n",
        "    print(\"1. Addition (+)\")\n",
        "    print(\"2. Subtraction (-)\")\n",
        "    print(\"3. Multiplication (*)\")\n",
        "    print(\"4. Division (/)\")\n",
        "\n",
        "    # Take input from the user\n",
        "    choice = input(\"Enter choice (1/2/3/4): \")\n",
        "\n",
        "    if choice in ['1', '2', '3', '4']:\n",
        "        num1 = float(input(\"Enter first number: \"))\n",
        "        num2 = float(input(\"Enter second number: \"))\n",
        "\n",
        "        if choice == '1':\n",
        "            print(f\"{num1} + {num2} = {num1 + num2}\")\n",
        "        elif choice == '2':\n",
        "            print(f\"{num1} - {num2} = {num1 - num2}\")\n",
        "        elif choice == '3':\n",
        "            print(f\"{num1} * {num2} = {num1 * num2}\")\n",
        "        elif choice == '4':\n",
        "            if num2 != 0:\n",
        "                print(f\"{num1} / {num2} = {num1 / num2}\")\n",
        "            else:\n",
        "                print(\"Error! Division by zero.\")\n",
        "    else:\n",
        "        print(\"Invalid input\")\n",
        "\n",
        "# Call the calculator function\n",
        "calculator()\n"
      ]
    }
  ]
}